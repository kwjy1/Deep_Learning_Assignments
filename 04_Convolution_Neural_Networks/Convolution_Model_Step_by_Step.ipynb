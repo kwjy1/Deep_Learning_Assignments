{
 "cells": [
  {
   "cell_type": "markdown",
   "id": "b501df06",
   "metadata": {},
   "source": [
    "# Convolutional Neural Networks: Step by Step\n",
    "\n",
    "- Convolution 레이어와 Pooling 레이어를 구축\n",
    "- Forward & Backward Propagation"
   ]
  },
  {
   "cell_type": "markdown",
   "id": "4288987a",
   "metadata": {},
   "source": [
    "**Notation**:\n",
    "- 윗첨자 $[l]$ 은 $l$ 번째 레이어\n",
    "    - $a^{[4]}$ 는 $4$번째 활성(activation) 함수.\n",
    "    - $W^{[5]}$ 과 $b^{[5]}$ 은 $5$번째 레이어의 매개변수\n",
    "\n",
    "\n",
    "- 아래첨자 $(i)$ 는 $i$ 번째 자료\n",
    "    - $x^{(i)}$ 은 $i$ 번째 훈련 자료\n",
    "    \n",
    "    \n",
    "- 아래첨자 $i$는 $i$번째 벡터의 entry\n",
    "    - $a^{[l]}_i$ 은 $i$번째 entry, $l$번재 레이어의 활성함수\n",
    "    \n",
    "    \n",
    "- $n_H$, $n_W$, $n_C$는 각각의 레이어에서 높이, 너비, 채널번호\n",
    "    - $n_H^{[l]}$, $n_W^{[l]}$, $n_C^{[l]}$ 은 $l$번째 레이어에서의 높이, 너비, 채널번호\n",
    "\n",
    "\n",
    "- $n_{H_{prev}}$, $n_{W_{prev}}$, $n_{C_{prev}}$은 이전 레이어의 높이, 너비, 채널번호\n",
    "    - $l$번째 레이어를 기준으로는, $n_H^{[l-1]}$, $n_W^{[l-1]}$, $n_C^{[l-1]}$으로 쓸 수 있음"
   ]
  },
  {
   "cell_type": "markdown",
   "id": "ff7ee054",
   "metadata": {},
   "source": [
    "## 1 - Packages"
   ]
  },
  {
   "cell_type": "code",
   "execution_count": 2,
   "id": "e4d48248",
   "metadata": {},
   "outputs": [],
   "source": [
    "import numpy as np\n",
    "import matplotlib.pyplot as plt\n",
    "\n",
    "plt.rcParams['figure.figsize'] = (5.0, 4.0) # set default size of plots\n",
    "plt.rcParams['image.interpolation'] = 'nearest'\n",
    "plt.rcParams['image.cmap'] = 'gray'\n",
    "\n",
    "np.random.seed(1)"
   ]
  },
  {
   "cell_type": "markdown",
   "id": "e2e4055b",
   "metadata": {},
   "source": [
    "## 2 - 코드 개요\n",
    "\n",
    "Convolution 신경망의 블록을 구현합니다. 구체적으로는 아래와 같은 코딩을 step-by-step으로 수행합니다.\n",
    "\n",
    "- Convolution functions:\n",
    "    - Zero Padding\n",
    "    - Convolve window \n",
    "    - Convolution forward\n",
    "    - Convolution backward\n",
    "    \n",
    "- Pooling functions, including:\n",
    "    - Pooling forward\n",
    "    - Create mask \n",
    "    - Distribute value\n",
    "    - Pooling backward (optional)\n",
    "    \n",
    "<img src=\"images/model.png\" style=\"width:800px;height:280px;\">"
   ]
  },
  {
   "cell_type": "markdown",
   "id": "ca2e8f84",
   "metadata": {},
   "source": [
    "## 3 - Convolutional Neural Networks\n",
    "\n",
    "- Convolution 레이어는 일반적으로 가로세로는 축소되고 채널의 크기가 커지게 합니다\n",
    "\n",
    "<img src=\"images/conv_nn.png\" style=\"width:650px;height:350px;\">"
   ]
  },
  {
   "cell_type": "markdown",
   "id": "6b35b184",
   "metadata": {},
   "source": [
    "### 3.1 - Zero-Padding\n",
    "\n",
    "Zero-padding은 이미지 테두리에 0을 추가하는 방법입니다\n",
    "\n",
    "<img src=\"images/PAD.png\" style=\"width:800px;height:600px;\">\n",
    "<caption><center> <u> <font color='purple'> <b>Figure 1</b> </u><font color='purple'>  : <b>Zero-Padding</b><br> Image (3 channels, RGB) with a padding of 2. </center></caption>\n",
    "\n",
    "패딩을 하는 이유:\n",
    "    \n",
    "- 네트워크를 깊게(deep)하게 만듬에 따라 반드시 높이/너비가 줄어들기 때문에 높이와 너비를 축소시키지 않고도 CONV 레이어를 사용할 수 있습니다.\n",
    "- 패딩이 없으면 다음 레이어에서 가장자리에 있는 픽셀의 정보를 잃게 됩니다."
   ]
  },
  {
   "cell_type": "markdown",
   "id": "d7049087",
   "metadata": {},
   "source": [
    "**Exercise**\n",
    "- [np.pad](https://docs.scipy.org/doc/numpy/reference/generated/numpy.pad.html) 함수를 활용합니다.\n",
    "- $(5,5,5,5,5)$의 shape를 갖는 배열에 2번째 차원에 1개, 4번째 차원에 3개의 zero 패드를 추가하고 싶다면 아래와 같이 사용합니다.\n",
    "```python\n",
    "a = np.pad(a, ((0,0), (1,1), (0,0), (3,3), (0,0)), mode='constant', constant_values = (0,0))\n",
    "```"
   ]
  },
  {
   "cell_type": "code",
   "execution_count": 3,
   "id": "3881b095",
   "metadata": {},
   "outputs": [],
   "source": [
    "def zero_pad(X, pad):\n",
    "    \"\"\"\n",
    "    Argument:\n",
    "    X -- (m, n_H, n_W, n_C)의 차원을 갖는 numpy 배열 (m개의 이미지)\n",
    "    pad -- integer, amount of padding around each image on vertical and horizontal dimensions\n",
    "    \n",
    "    Returns:\n",
    "    X_pad -- padded image of shape (m, n_H + 2*pad, n_W + 2*pad, n_C)\n",
    "    \"\"\"\n",
    "    \n",
    "    X_pad = np.pad(X, ((0, 0), (pad, pad), (pad, pad), (0, 0)), mode='constant', constant_values=0)\n",
    "    \n",
    "    return X_pad"
   ]
  },
  {
   "cell_type": "code",
   "execution_count": 4,
   "id": "0de84de3",
   "metadata": {},
   "outputs": [
    {
     "name": "stdout",
     "output_type": "stream",
     "text": [
      "x.shape = (4, 3, 3, 2)\n",
      "x_pad.shape = (4, 7, 7, 2)\n"
     ]
    },
    {
     "data": {
      "image/png": "[encoded data removed]",
      "text/plain": [
       "<Figure size 500x400 with 2 Axes>"
      ]
     },
     "metadata": {},
     "output_type": "display_data"
    }
   ],
   "source": [
    "np.random.seed(1)\n",
    "x = np.random.randn(4, 3, 3, 2)\n",
    "x_pad = zero_pad(x, 2)\n",
    "print (\"x.shape =\", x.shape)\n",
    "print (\"x_pad.shape =\", x_pad.shape)\n",
    "\n",
    "fig, ax = plt.subplots(1, 2)\n",
    "ax[0].set_title('x')\n",
    "ax[0].imshow(x[0,:,:,0])\n",
    "ax[1].set_title('x_pad')\n",
    "ax[1].imshow(x_pad[0,:,:,0]);"
   ]
  },
  {
   "cell_type": "markdown",
   "id": "bf12c75f",
   "metadata": {},
   "source": [
    "### 3.2 - Single step of convolution \n",
    "\n",
    "Filter를 사용하여 1회의 Convolution을 수행함\n",
    "\n",
    "- 입력자료의 volume을 계산하고\n",
    "- 각 포지션마다 filter를 적용하고\n",
    "- 다른 volume을 가진 출력자료를 생성함\n",
    "\n",
    "<img src=\"images/Convolution_schematic.gif\" style=\"width:500px;height:350px;\">\n",
    "<caption><center> <u> <font color='purple'> <b>Figure 2</b> </u><font color='purple'>  : <b>Convolution operation</b><br>\n",
    "    3x3의 필터 (stride=1, stride는 filter가 이동하는 간격) </center></caption>\n",
    "\n",
    "\n",
    "- 왼쪽 행렬의 각 값은 픽셀 값에 해당하며 요소별로 filter값을 곱하고 bias를 추가하여 Convolution함\n",
    "- 최초 코딩단계에서는 단일 값 출력을 얻기 위해 위치 중 하나에만 filter를 적용하는 코드를 구현"
   ]
  },
  {
   "cell_type": "markdown",
   "id": "e080e4b5",
   "metadata": {},
   "source": [
    "**Exercise**: conv_single_step() 를 구현. [Hint](https://docs.scipy.org/doc/numpy-1.13.0/reference/generated/numpy.sum.html)."
   ]
  },
  {
   "cell_type": "code",
   "execution_count": 5,
   "id": "88839cc5",
   "metadata": {},
   "outputs": [],
   "source": [
    "def conv_single_step(a_slice_prev, W, b):\n",
    "    \"\"\"\n",
    "    Arguments:\n",
    "    a_slice_prev -- (f, f, n_C_prev) shape를 갖는 입력자료의 일부 슬라이스\n",
    "    W -- Filter의 가중치(weight) 매개변수로 (f, f, n_C_prev) shape\n",
    "    b -- Filter의 편의(bias) 매개변수로 (1, 1, 1) shape\n",
    "    \n",
    "    Returns:\n",
    "    Z -- a scalar value, the result of convolving the sliding window (W, b) on a slice x of the input data\n",
    "    \"\"\"\n",
    "\n",
    "    # Element-wise product between a_slice_prev and W. Do not add the bias yet.\n",
    "    s = np.multiply(a_slice_prev, W)\n",
    "    # Sum over all entries of the volume s.\n",
    "    Z = np.sum(s)\n",
    "    # Add bias b to Z. Cast b to a float() so that Z results in a scalar value.\n",
    "    Z = Z + b\n",
    "\n",
    "    return Z"
   ]
  },
  {
   "cell_type": "code",
   "execution_count": 6,
   "id": "3fff7451",
   "metadata": {},
   "outputs": [
    {
     "name": "stdout",
     "output_type": "stream",
     "text": [
      "Z = [[[-6.99908945]]]\n"
     ]
    }
   ],
   "source": [
    "np.random.seed(1)\n",
    "a_slice_prev = np.random.randn(4, 4, 3)\n",
    "W = np.random.randn(4, 4, 3)\n",
    "b = np.random.randn(1, 1, 1)\n",
    "\n",
    "Z = conv_single_step(a_slice_prev, W, b)\n",
    "print(\"Z =\", Z)"
   ]
  },
  {
   "cell_type": "markdown",
   "id": "c1cccdc2",
   "metadata": {},
   "source": [
    "### 3.3 - Convolutional Neural Networks - Forward pass\n",
    "\n",
    "\n",
    "<center>\n",
    "<video width=\"900\" height=\"600\" src=\"images/conv_kiank.mp4\" type=\"video/mp4\" controls>\n",
    "</video>\n",
    "</center>"
   ]
  },
  {
   "cell_type": "markdown",
   "id": "1114eb54",
   "metadata": {},
   "source": [
    "**Exercise**: \n",
    "Filter의 매개변수 `W`와 이전 레이어의 출력인 `A_prev`를 가지고 convolution 함수 작성\n",
    "\n",
    "* `A_prev`는 이전 레이어의 활성함수로부터의 출력(m개의 미니배치 개수를 갖는 입력자료); \n",
    "* 가중치 매개변수는 `W`.\n",
    "* Filter의 윈도우 사이즈는 `f`\n",
    "* bias는 `b`이고 각 filter는 하나의 값으로 통일됨"
   ]
  },
  {
   "cell_type": "markdown",
   "id": "8e5fa95f",
   "metadata": {},
   "source": [
    "**Hint**: \n",
    "1. To select a 2x2 slice at the upper left corner of a matrix \"a_prev\" (shape (5,5,3)), you would do:\n",
    "```python\n",
    "a_slice_prev = a_prev[0:2,0:2,:]\n",
    "```\n",
    "Notice how this gives a 3D slice that has height 2, width 2, and depth 3.  Depth is the number of channels.  \n",
    "This will be useful when you will define `a_slice_prev` below, using the `start/end` indexes you will define.\n",
    "2. To define a_slice you will need to first define its corners `vert_start`, `vert_end`, `horiz_start` and `horiz_end`. This figure may be helpful for you to find out how each of the corner can be defined using h, w, f and s in the code below.\n",
    "\n",
    "<img src=\"images/vert_horiz_kiank.png\" style=\"width:400px;height:300px;\">\n",
    "<caption><center> <u> <font color='purple'> <b>Figure 3</b> </u><font color='purple'>  : <b>Definition of a slice using vertical and horizontal start/end (with a 2x2 filter)</b> <br> This figure shows only a single channel.  </center></caption>"
   ]
  },
  {
   "cell_type": "markdown",
   "id": "fcf0f47b",
   "metadata": {},
   "source": [
    "**Reminder**:\n",
    "입력자료의 shape, filter의 사이즈 f, stride에 따른 출력자료 shape는 아래의 공식과 같이 결정됨:\n",
    "$$ n_H = \\lfloor \\frac{n_{H_{prev}} - f + 2 \\times pad}{stride} \\rfloor +1 $$\n",
    "$$ n_W = \\lfloor \\frac{n_{W_{prev}} - f + 2 \\times pad}{stride} \\rfloor +1 $$\n",
    "$$ n_C = \\text{number of filters used in the convolution}$$"
   ]
  },
  {
   "cell_type": "code",
   "execution_count": 7,
   "id": "68b00918",
   "metadata": {},
   "outputs": [],
   "source": [
    "def conv_forward(A_prev, W, b, hparameters):\n",
    "    \"\"\"\n",
    "    Arguments:\n",
    "    A_prev -- 이전 레이어의 numpy array of shape (m, n_H_prev, n_W_prev, n_C_prev)\n",
    "    W -- 가중치, numpy array of shape (f, f, n_C_prev, n_C)\n",
    "    b -- 편의, numpy array of shape (1, 1, 1, n_C)\n",
    "    hparameters -- \"stride\" 와 \"pad\" 매개변수를 넣어둔 dict\n",
    "        \n",
    "    Returns:\n",
    "    Z -- Convolution 결과 numpy array of shape (m, n_H, n_W, n_C)\n",
    "    cache -- backward propagation을 위한 cache values\n",
    "    \"\"\"\n",
    "    \n",
    "    # Retrieve dimensions from A_prev's shape (≈1 line)  \n",
    "    (m, n_H_prev, n_W_prev, n_C_prev) = A_prev.shape\n",
    "    \n",
    "    # Retrieve dimensions from W's shape (≈1 line)\n",
    "    (f, f, n_C_prev, n_C) = W.shape\n",
    "    \n",
    "    # Retrieve information from \"hparameters\" (≈2 lines)\n",
    "    stride = hparameters['stride']\n",
    "    pad = hparameters['pad']\n",
    "    \n",
    "    # Compute the dimensions of the CONV output volume using the formula given above. \n",
    "    # Hint: use int() to apply the 'floor' operation. (≈2 lines)\n",
    "    n_H = int((n_H_prev-f+2*pad)/stride + 1)\n",
    "    n_W = int((n_W_prev-f+2*pad)/stride + 1)\n",
    "    \n",
    "    # Initialize the output volume Z with zeros. (≈1 line)\n",
    "    Z = np.zeros((m, n_H, n_W, n_C))\n",
    "    \n",
    "    # Create A_prev_pad by padding A_prev\n",
    "    A_prev_pad = zero_pad(A_prev, pad)\n",
    "    \n",
    "    for i in range(m):                  # loop over the batch of training examples\n",
    "        a_prev_pad = A_prev_pad[i]      # Select ith training example's padded activation\n",
    "        for h in range(n_H):            # loop over vertical axis of the output volume\n",
    "            # Find the vertical start and end of the current \"slice\" (≈2 lines)\n",
    "            vert_start = h * stride\n",
    "            vert_end = h * stride + f\n",
    "            \n",
    "            for w in range(n_W):       # loop over horizontal axis of the output volume\n",
    "                # Find the horizontal start and end of the current \"slice\" (≈2 lines)\n",
    "                horiz_start = w * stride\n",
    "                horiz_end = w * stride + f\n",
    "                \n",
    "                for c in range(n_C):   # loop over channels (= #filters) of the output volume\n",
    "                                        \n",
    "                    # Use the corners to define the (3D) slice of a_prev_pad (See Hint above the cell). (≈1 line)\n",
    "                    a_slice_prev = a_prev_pad[vert_start:vert_end, horiz_start:horiz_end, :]\n",
    "                    \n",
    "                    # Convolve the (3D) slice with the correct filter W and bias b, to get back one output neuron. (≈3 line)\n",
    "                    weights = W[..., c]\n",
    "                    biases = b[..., c]\n",
    "                    # print(a_slice_prev.shape, weights.shape, biases.shape)\n",
    "                    Z[i, h, w, c] = conv_single_step(a_slice_prev, weights, biases)\n",
    "\n",
    "                                        \n",
    "    # Making sure your output shape is correct\n",
    "    assert(Z.shape == (m, n_H, n_W, n_C))\n",
    "    \n",
    "    # Save information in \"cache\" for the backprop\n",
    "    cache = (A_prev, W, b, hparameters)\n",
    "    \n",
    "    return Z, cache"
   ]
  },
  {
   "cell_type": "markdown",
   "id": "ab15290d",
   "metadata": {},
   "source": [
    "## 4 - Pooling layer \n",
    "\n",
    "Pooling layer는 높이와 너비를 축소시켜 계산 리소스를 줄일 수 있고 특징을 유지할 수 있습니다.\n",
    "\n",
    "- Max-pooling layer:  ($f, f$)의 윈도우를 움직이면서 최대값을 취합니다.\n",
    "- Average-pooling layer: ($f, f$)의 윈도우를 움직이면서 평균값을 취합니다.\n",
    "\n",
    "<table>\n",
    "<td>\n",
    "<img src=\"images/max_pool1.png\" style=\"width:500px;height:280px;\">\n",
    "<td>\n",
    "\n",
    "<td>\n",
    "<img src=\"images/a_pool.png\" style=\"width:500px;height:280px;\">\n",
    "<td>\n",
    "</table>\n",
    "\n",
    "Pooling layer에는 학습을 위한 역전파 매개변수는 없지만 $f$와 같은 창 크기의 hyperparameter가 존재함"
   ]
  },
  {
   "cell_type": "markdown",
   "id": "1bdada2d",
   "metadata": {},
   "source": [
    "### 4.1 - Forward Pooling\n",
    "\n",
    "**Exercise**: Max-pooling과 Average-pooling을 구현합니다\n",
    "\n",
    "**Reminder**:\n",
    "Padding이 없기 때문에 pooling layer의 출력 차원은 아래의 공식과 같습니다\n",
    "\n",
    "$$ n_H = \\lfloor \\frac{n_{H_{prev}} - f}{stride} \\rfloor +1 $$\n",
    "\n",
    "$$ n_W = \\lfloor \\frac{n_{W_{prev}} - f}{stride} \\rfloor +1 $$\n",
    "\n",
    "$$ n_C = n_{C_{prev}}$$"
   ]
  },
  {
   "cell_type": "code",
   "execution_count": 9,
   "id": "aaf7f815",
   "metadata": {},
   "outputs": [],
   "source": [
    "def pool_forward(A_prev, hparameters, mode = \"max\"):\n",
    "    \"\"\"\n",
    "    Arguments:\n",
    "    A_prev -- 입력자료, numpy array of shape (m, n_H_prev, n_W_prev, n_C_prev)\n",
    "    hparameters -- \"f\" 와 \"stride\"를 넣어둔 dictionary\n",
    "    mode -- Pooling 방법으로 문자열 \"max\" 또는 \"average\"\n",
    "    \n",
    "    Returns:\n",
    "    A -- output of the pool layer, a numpy array of shape (m, n_H, n_W, n_C)\n",
    "    cache -- cache used in the backward pass of the pooling layer, contains the input and hparameters \n",
    "    \"\"\"\n",
    "    \n",
    "    # Retrieve dimensions from the input shape\n",
    "    (m, n_H_prev, n_W_prev, n_C_prev) = A_prev.shape\n",
    "    \n",
    "    # Retrieve hyperparameters from \"hparameters\"\n",
    "    f = hparameters[\"f\"]\n",
    "    stride = hparameters[\"stride\"]\n",
    "    \n",
    "    # Define the dimensions of the output\n",
    "    n_H = int(1 + (n_H_prev - f) / stride)\n",
    "    n_W = int(1 + (n_W_prev - f) / stride)\n",
    "    n_C = n_C_prev\n",
    "    \n",
    "    # Initialize output matrix A\n",
    "    A = np.zeros((m, n_H, n_W, n_C))              \n",
    "    \n",
    "    for i in range(m):                            # loop over the training examples\n",
    "        for h in range(n_H):                      # loop on the vertical axis of the output volume\n",
    "            # Find the vertical start and end of the current \"slice\" (≈2 lines)\n",
    "            vert_start = h * stride\n",
    "            vert_end = h * stride + f\n",
    "            \n",
    "            for w in range(n_W):                  # loop on the horizontal axis of the output volume\n",
    "                # Find the vertical start and end of the current \"slice\" (≈2 lines)\n",
    "                horiz_start = w * stride\n",
    "                horiz_end = w * stride + f\n",
    "                \n",
    "                for c in range (n_C):            # loop over the channels of the output volume\n",
    "                    \n",
    "                    # Use the corners to define the current slice on the ith training example of A_prev, channel c. (≈1 line)\n",
    "                    a_prev_slice = A_prev[i, vert_start:vert_end, horiz_start:horiz_end, c]\n",
    "                    \n",
    "                    # Compute the pooling operation on the slice. \n",
    "                    # Use an if statement to differentiate the modes. \n",
    "                    # Use np.max and np.mean.\n",
    "                    if mode == \"max\":\n",
    "                        A[i, h, w, c] = np.max(a_prev_slice)\n",
    "                    elif mode == \"average\":\n",
    "                        A[i, h, w, c] = np.mean(a_prev_slice)\n",
    "    \n",
    "    # Store the input and hparameters in \"cache\" for pool_backward()\n",
    "    cache = (A_prev, hparameters)\n",
    "    \n",
    "    # Making sure your output shape is correct\n",
    "    assert(A.shape == (m, n_H, n_W, n_C))\n",
    "    \n",
    "    return A, cache"
   ]
  },
  {
   "cell_type": "code",
   "execution_count": null,
   "id": "39b558dc",
   "metadata": {},
   "outputs": [],
   "source": []
  }
 ],
 "metadata": {
  "kernelspec": {
   "display_name": "Python 3 (ipykernel)",
   "language": "python",
   "name": "python3"
  },
  "language_info": {
   "codemirror_mode": {
    "name": "ipython",
    "version": 3
   },
   "file_extension": ".py",
   "mimetype": "text/x-python",
   "name": "python",
   "nbconvert_exporter": "python",
   "pygments_lexer": "ipython3",
   "version": "3.9.13"
  }
 },
 "nbformat": 4,
 "nbformat_minor": 5
}
